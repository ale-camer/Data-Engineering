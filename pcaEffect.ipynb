{
  "nbformat": 4,
  "nbformat_minor": 0,
  "metadata": {
    "colab": {
      "name": "pcaEffect.ipynb",
      "provenance": [],
      "collapsed_sections": [],
      "authorship_tag": "ABX9TyP36N8NRAxUAu574c1UXgiA",
      "include_colab_link": true
    },
    "kernelspec": {
      "name": "python3",
      "display_name": "Python 3"
    },
    "language_info": {
      "name": "python"
    }
  },
  "cells": [
    {
      "cell_type": "markdown",
      "metadata": {
        "id": "view-in-github",
        "colab_type": "text"
      },
      "source": [
        "<a href=\"https://colab.research.google.com/github/ale-camer/Data-Engineering/blob/Finance/pcaEffect.ipynb\" target=\"_parent\"><img src=\"https://colab.research.google.com/assets/colab-badge.svg\" alt=\"Open In Colab\"/></a>"
      ]
    },
    {
      "cell_type": "code",
      "source": [
        "# PACKAGES\n",
        "\n",
        "import pandas as pd\n",
        "from tqdm import tqdm\n",
        "from sklearn.preprocessing import OrdinalEncoder\n",
        "from sklearn.preprocessing import MinMaxScaler\n",
        "\n",
        "encoder = OrdinalEncoder()\n",
        "scaler = MinMaxScaler()\n",
        "\n",
        "# DATA & PREPROCESSING\n",
        "\n",
        "data = pd.read_csv(\"https://archive.ics.uci.edu/ml/machine-learning-databases/00421/aps_failure_training_set.csv\", sep='delimiter', header=None) # download data\n",
        "data = data.iloc[14:,:] # deleting unnecesary rows\n",
        "data = data[0].str.split(',', expand=True) # separating single column\n",
        "data.columns = data.iloc[0,:] # renaming columns\n",
        "data = data.fillna(method='ffill') # replacing NAs\n",
        "data1 = encoder.fit_transform(data) # discretizing data\n",
        "data1 = pd.DataFrame(scaler.fit_transform(data1)) # scaling data\n",
        "data1.index, data1.columns = data.index, data.columns # naming columns and rows of scaled data\n",
        "data1 = data1[data1['class'] != 0] # deleting unnecesary rows\n",
        "X, y = data1.drop('class',axis=1), data1['class'] # separating dataset \n",
        "y = y.astype('int') # data to predict must be integer for the Logistic Regression algorithm "
      ],
      "metadata": {
        "id": "je2pSiIjL1l6",
        "colab": {
          "base_uri": "https://localhost:8080/"
        },
        "outputId": "f6688e53-c14e-45f0-c868-6a5d6077633d"
      },
      "execution_count": 1,
      "outputs": [
        {
          "output_type": "stream",
          "name": "stderr",
          "text": [
            "/usr/local/lib/python3.7/dist-packages/pandas/util/_decorators.py:311: ParserWarning: Falling back to the 'python' engine because the 'c' engine does not support regex separators (separators > 1 char and different from '\\s+' are interpreted as regex); you can avoid this warning by specifying engine='python'.\n",
            "  return func(*args, **kwargs)\n"
          ]
        }
      ]
    },
    {
      "cell_type": "code",
      "execution_count": 2,
      "metadata": {
        "id": "haQk75yF-r_Q"
      },
      "outputs": [],
      "source": [
        "# FUNCTION\n",
        "\n",
        "def pcaEffect(X = X, y = y, lower_bound = 0.01, upper_bound = 1.0, interval = 0.01, test_size_ = 0.10, poly_grade = 1):\n",
        "\n",
        "  \"\"\"\n",
        "  This function plot a graph that shows how the difference of accuracies, obtained by the prediction of the 10% of the dataset with the Logistic Regression model,  \n",
        "  between a dataset and the same one applying Principal Component Analysis drops while incresing the amount of variance explained from 1% to 100% and consecuently the\n",
        "  number of dimensions.\n",
        "  \"\"\"\n",
        "\n",
        "  from sklearn.decomposition import PCA\n",
        "  from sklearn import linear_model\n",
        "  from sklearn.model_selection import train_test_split\n",
        "  from sklearn.metrics import accuracy_score\n",
        "  import matplotlib.pyplot as plt\n",
        "  import pandas as pd\n",
        "  import numpy as np\n",
        "  from tqdm import tqdm\n",
        "  import warnings\n",
        "  warnings.filterwarnings('ignore')\n",
        "  print(\"Progress:\")\n",
        "  props = np.arange(lower_bound, upper_bound, interval)\n",
        "  X2 = X.copy()\n",
        "\n",
        "  statsList = []\n",
        "  for prop in tqdm(props):\n",
        "    \n",
        "    X3 = pd.DataFrame(PCA(n_components = prop).fit_transform(X2))\n",
        "\n",
        "    x_train1, x_test1, y_train1, y_test1 = train_test_split(X, y, test_size = test_size_)\n",
        "    x_train2, x_test2, y_train2, y_test2 = train_test_split(X3, y, test_size = test_size_)\n",
        "\n",
        "    lr_model1 = linear_model.LogisticRegression().fit(x_train1, y_train1).predict(x_test1)\n",
        "    lr_model2 = linear_model.LogisticRegression().fit(x_train2, y_train2).predict(x_test2)\n",
        "\n",
        "    model1_acc = round(accuracy_score(y_test1, lr_model1) * 100, 2)\n",
        "    model2_acc = round(accuracy_score(y_test2, lr_model2) * 100, 2)\n",
        "\n",
        "    diff = round(abs(model1_acc - model2_acc), 2)\n",
        "    q = len(X3.columns)\n",
        "    \n",
        "    statsList.append((prop, q, diff))\n",
        "\n",
        "  statsList = pd.DataFrame(statsList, columns = ['Proportion', 'Dimensions', 'Accuracy Difference'])\n",
        "\n",
        "  fig = plt.figure(figsize = (10, 5))\n",
        "\n",
        "  x1 = fig.add_subplot(111)\n",
        "  x1.bar(statsList['Proportion'], statsList['Dimensions'], color = 'g', label = 'Dimensions', width = 0.01, alpha = 0.70)\n",
        "  x1.set_ylabel('Dimensions')\n",
        "  x1.legend(loc = 'best')\n",
        "  x1.set_xlabel('Variance Explaiend')\n",
        "\n",
        "  x2 = x1.twinx()\n",
        "  x2.scatter(statsList['Proportion'], statsList['Accuracy Difference'], color = 'r', label = 'Accuracy Difference')\n",
        "  z = np.polyfit(statsList['Proportion'], statsList['Accuracy Difference'], poly_grade)\n",
        "  p = np.poly1d(z)\n",
        "  x2.plot(statsList['Proportion'], p(statsList['Proportion']), 'r--', alpha = 0.5)\n",
        "  x2.set_ylabel('Accuracy Difference')\n",
        "  x2.legend(loc = 'best')\n",
        "\n",
        "  plt.title(f'PCA Effect. Total amount of columns: {len(X.columns)}')\n",
        "  plt.show()"
      ]
    },
    {
      "cell_type": "code",
      "source": [
        "# OUTPUT\n",
        "\n",
        "pcaEffect(X,y)"
      ],
      "metadata": {
        "colab": {
          "base_uri": "https://localhost:8080/",
          "height": 385
        },
        "id": "4gcTvBaAUedR",
        "outputId": "7f9a77a2-aaa3-4af3-b742-051a9d2eb4ad"
      },
      "execution_count": 3,
      "outputs": [
        {
          "output_type": "stream",
          "name": "stdout",
          "text": [
            "Progress:\n"
          ]
        },
        {
          "output_type": "stream",
          "name": "stderr",
          "text": [
            "100%|██████████| 99/99 [07:42<00:00,  4.67s/it]\n"
          ]
        },
        {
          "output_type": "display_data",
          "data": {
            "text/plain": [
              "<Figure size 720x360 with 2 Axes>"
            ],
            "image/png": "[encoded data removed]"
          },
          "metadata": {
            "needs_background": "light"
          }
        }
      ]
    }
  ]
}